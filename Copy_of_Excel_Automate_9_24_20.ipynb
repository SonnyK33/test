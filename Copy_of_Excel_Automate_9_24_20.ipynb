{
  "nbformat": 4,
  "nbformat_minor": 0,
  "metadata": {
    "colab": {
      "name": "Copy of Excel_Automate_9.24.20.ipynb",
      "provenance": [],
      "collapsed_sections": [],
      "authorship_tag": "ABX9TyP+ygjEuLdtC3oPgWzGsu2U",
      "include_colab_link": true
    },
    "kernelspec": {
      "name": "python3",
      "display_name": "Python 3"
    }
  },
  "cells": [
    {
      "cell_type": "markdown",
      "metadata": {
        "id": "view-in-github",
        "colab_type": "text"
      },
      "source": [
        "<a href=\"https://colab.research.google.com/github/SonnyK33/test/blob/master/Copy_of_Excel_Automate_9_24_20.ipynb\" target=\"_parent\"><img src=\"https://colab.research.google.com/assets/colab-badge.svg\" alt=\"Open In Colab\"/></a>"
      ]
    },
    {
      "cell_type": "code",
      "metadata": {
        "id": "26Oi_7s4PWKP",
        "colab_type": "code",
        "colab": {
          "base_uri": "https://localhost:8080/",
          "height": 105
        },
        "outputId": "a600593d-bd13-4b3e-d84d-a6dc38150403"
      },
      "source": [
        "import openpyxl\n",
        "import os\n",
        "import numpy as np\n",
        "import pandas as pd\n",
        "import math \n",
        "from pathlib import Path\n",
        "\n",
        "currentYear = 2020.25\n",
        "currentQuarter = 2\n",
        "\n",
        "cars = ['Revenue', 'Variable Costs', 'Fixed']\n",
        "FCF = ['Revenue','Variable Costs','Fixed Costs','EBITDA']\n",
        "\n",
        "def makeProj (credit_x,qtrs):\n",
        "  revArray = np.array([credit_x['rev']*(1+credit_x['rev_g'])**i for i in range(qtrs+1)],dtype=int)\n",
        "  vcostsArray = np.array([credit_x['var_costs']*(1+credit_x['rev_g'])**i for i in range(qtrs+1)],dtype=int)\n",
        "  #fcostsArray = np.full((1, qtrs+1), credit_x['f_costs'],dtype=int)\n",
        "  fcostsArray = np.full(shape=qtrs+1,fill_value=credit_x['f_costs'],dtype=int)\n",
        "  ebitdaArray = revArray+vcostsArray+fcostsArray\n",
        "  revEBITDA=[revArray,vcostsArray,fcostsArray,ebitdaArray]\n",
        "\n",
        "  return revEBITDA\n",
        "\n",
        "def makeDateColumn(Year,Quarter,qtrs):\n",
        "  yearColumns = ['Q'+str(currentQuarter)+'/'+str(math.floor(currentYear))]\n",
        "  for x in range (qtrs):\n",
        "      yearColumns.append('Q'+str(((currentQuarter+x) % 4)+1)+'/'+str(math.floor(currentYear+(x+1)*0.25)))\n",
        "  return yearColumns\n",
        "\n",
        "\n",
        "\n",
        "\n",
        "credit_OVV = {'ticker': 'OVV', 'rev': 726, 'rev_g': 0.01, 'var_costs': -200, 'f_costs': -257, 'eMargin': 0.37, 'compositeRating': 'BB+'}\n",
        "credit_APA = {'ticker': 'APA', 'rev': 1947, 'rev_g': 0.10, 'var_costs':0, 'f_costs':0, 'eMargin': 0.57, 'compositeRating': 'BB+'}\n",
        "US_energy = [credit_OVV,credit_APA]\n",
        "\n",
        "\n",
        "US_energy_comps = pd.DataFrame(US_energy)\n",
        "OVV_projections = makeProj(credit_OVV,4)\n",
        "OVV_df=pd.DataFrame(OVV_projections,columns = makeDateColumn(currentYear,currentQuarter,4), index = FCF)\n",
        "\n",
        "#OVV_projections_table = pd.DataFrame(US_energy, columns= [currentYear, currentYear+1, currentYear+2], index = incomeStatement)\n",
        "\n",
        "print(OVV_df)\n",
        "\n",
        "\n",
        "\n",
        "\n"
      ],
      "execution_count": 115,
      "outputs": [
        {
          "output_type": "stream",
          "text": [
            "                Q2/2020  Q3/2020  Q4/2020  Q1/2021  Q2/2021\n",
            "Revenue             726      733      740      747      755\n",
            "Variable Costs     -200     -202     -204     -206     -208\n",
            "Fixed Costs        -257     -257     -257     -257     -257\n",
            "EBITDA              269      274      279      284      290\n"
          ],
          "name": "stdout"
        }
      ]
    },
    {
      "cell_type": "markdown",
      "metadata": {
        "id": "EPrZiHWF9LIs",
        "colab_type": "text"
      },
      "source": [
        ""
      ]
    },
    {
      "cell_type": "code",
      "metadata": {
        "id": "-cLHAfGK9LgK",
        "colab_type": "code",
        "colab": {}
      },
      "source": [
        ""
      ],
      "execution_count": 85,
      "outputs": []
    }
  ]
}